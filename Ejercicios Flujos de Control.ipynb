{
 "cells": [
  {
   "cell_type": "markdown",
   "metadata": {},
   "source": [
    "![imagen](./img/ejercicios.png)"
   ]
  },
  {
   "cell_type": "markdown",
   "metadata": {},
   "source": [
    "# Ejercicios Flujos de control"
   ]
  },
  {
   "cell_type": "markdown",
   "metadata": {},
   "source": [
    "## Ejercicio 1\n",
    "Declara una variable numérica que será una hora cualquiera del día. Implementa mediante sentencias `if/elif/else` la siguiente casuística:\n",
    "\n",
    "* Si es entre las 0 y las 8, print \"Durmiendo\"\n",
    "* Si es entre las 9 y las 18, print \"Trabajando\"\n",
    "* Si es entre las 19 y las 21, print \"Clase\"\n",
    "* Si es entre las 22 y las 24, print \"Descanso\"\n",
    "* En cualquier otro caso, print \"Transporte o error\""
   ]
  },
  {
   "cell_type": "code",
   "execution_count": 10,
   "metadata": {},
   "outputs": [
    {
     "name": "stdout",
     "output_type": "stream",
     "text": [
      "trabajando\n"
     ]
    }
   ],
   "source": [
    "hora= 12\n",
    "\n",
    "if (hora >= 0) and (hora <= 8):\n",
    "    print(\"durmiendo\")\n",
    "\n",
    "elif (hora >= 9) and (hora <= 18):\n",
    "    print(\"trabajando\")    \n",
    "\n",
    "\n",
    "elif (hora >= 19) and (hora <= 21):\n",
    "    print(\"clase\")  \n",
    "\n",
    "elif (hora >= 22) and (hora <= 24):\n",
    "    print(\"descanso\")  \n",
    "\n",
    "else: \n",
    "    print(\"transporte o error\")   \n",
    "\n",
    "\n",
    "#para simplicar if 0 <= hora <= 8"
   ]
  },
  {
   "cell_type": "markdown",
   "metadata": {},
   "source": [
    "## Ejercicio 2\n",
    "En este ejercicio vamos a implementar un calculador de precios de casas muy sencillo. Tenemos las siguientes variables:\n",
    "\n",
    "> superficie\n",
    ">\n",
    "> distrito\n",
    "\n",
    "\n",
    "Implementa mediante sentencias `if/elif/else` la siguiente casuística:\n",
    "\n",
    "1. Si el distrito es \"Moncloa\" o \"Centro\", y además la superficie es superior a 100 metros cuadrados, el precio de la casa es de 1000\n",
    "2. Si el distrito es \"Salamanca\", y además la superficie de la casa es al menos de 150 metros, el precio de la casa es de 1500\n",
    "3. Si el distrito no es \"Retiro\" y la superficie está entre 60 y 80 metros, el precio es de 600\n",
    "4. En cualquier otro caso, el precio será de 0"
   ]
  },
  {
   "cell_type": "code",
   "execution_count": 11,
   "metadata": {},
   "outputs": [],
   "source": [
    "#asignamos variables\n",
    "distrito= input(\"escribe el distrito:\")\n",
    "superficie= float(input(\"escribe la superficie:\"))\n",
    "\n",
    "if (distrito ==\"Moncloa\") or (distrito == \"Centro\") and (superficie > 100):\n",
    "    precio = 1000\n",
    "\n",
    "elif (distrito ==\"Salamanca\") and (superficie >= 150): \n",
    "    precio= 1500\n",
    "\n",
    "\n",
    "elif (distrito != \"Retiro\" ) and (60 <= superficie <= 80):\n",
    "    precio= 600\n",
    "\n",
    "else:\n",
    "    precio= 0     \n"
   ]
  },
  {
   "cell_type": "code",
   "execution_count": null,
   "metadata": {},
   "outputs": [],
   "source": []
  },
  {
   "cell_type": "markdown",
   "metadata": {},
   "source": [
    "## Ejercicio 3\n",
    "En este ejercicio vamos a realizar un programa muy parecido. Para este caso queremos que se cumplan las siguientes condiciones:\n",
    "\n",
    "1. Primero se compruebe si el distrito es \"Retiro\". Si es asi, que imprima \"Distrito Retiro\", y si no, \"Otro distrito\"\n",
    "2. Si el distrito es \"Retiro\", comprueba si si la superficie es mayor de 100 metros cuadrados. En tal caso, que imprima un precio de 1000, y si no, de 500.\n",
    "\n",
    "Hay que usar `ifs` anidados"
   ]
  },
  {
   "cell_type": "code",
   "execution_count": null,
   "metadata": {},
   "outputs": [],
   "source": [
    "distrito= input(\"quedistrito:\")\n",
    "superficie= input(\"quesuperficie:\")\n",
    "\n",
    "if distrito == \"Retiro\":\n",
    "    print (\"Distrito Retiro\")\n",
    "    \n",
    "\n",
    "    if superficie > 100: \n",
    "        print(\"precio es 1000\")\n",
    "\n",
    "    else:\n",
    "        print(\"precio es 500\")   \n",
    "\n",
    "\n",
    "else:\n",
    "    print(\"otro distrito\")\n",
    "\n",
    "\n",
    "\n",
    "\n",
    "\n",
    "    \n",
    "\n",
    "\n"
   ]
  },
  {
   "cell_type": "markdown",
   "metadata": {},
   "source": [
    "## Ejercicio 4\n",
    "Escribe un programa que tenga dos variables: un numero, y una lista numérica. El programa debe recorrer la lista e imprimir por pantalla cada elemento de la lista multiplicado por el número"
   ]
  },
  {
   "cell_type": "code",
   "execution_count": 2,
   "metadata": {},
   "outputs": [
    {
     "name": "stdout",
     "output_type": "stream",
     "text": [
      "7\n",
      "14\n",
      "28\n",
      "49\n",
      "70\n"
     ]
    }
   ],
   "source": [
    "variable_num = 7\n",
    "variable_lista = [1,2,4,7,10]\n",
    "\n",
    "for elemento in variable_lista:\n",
    "    print(elemento *variable_num)\n"
   ]
  },
  {
   "cell_type": "code",
   "execution_count": 26,
   "metadata": {},
   "outputs": [
    {
     "name": "stdout",
     "output_type": "stream",
     "text": [
      "-3\n",
      "0\n",
      "3\n",
      "6\n"
     ]
    }
   ],
   "source": []
  },
  {
   "cell_type": "markdown",
   "metadata": {},
   "source": [
    "## Ejercicio 5\n",
    "\n",
    "Imprime por pantalla cada número del -10 al -1. En ese orden.\n",
    "\n",
    " Consulta [la documentación](https://www.w3schools.com/python/ref_func_range.asp) de `range`"
   ]
  },
  {
   "cell_type": "code",
   "execution_count": 3,
   "metadata": {},
   "outputs": [
    {
     "name": "stdout",
     "output_type": "stream",
     "text": [
      "-10\n",
      "-9\n",
      "-8\n",
      "-7\n",
      "-6\n",
      "-5\n",
      "-4\n",
      "-3\n",
      "-2\n",
      "-1\n"
     ]
    }
   ],
   "source": [
    "for numero in range(-10, 0):\n",
    "    print(numero)\n"
   ]
  },
  {
   "cell_type": "code",
   "execution_count": null,
   "metadata": {},
   "outputs": [],
   "source": []
  },
  {
   "cell_type": "markdown",
   "metadata": {},
   "source": [
    "## Ejercicio 6\n",
    "Dada la siguiente lista:\n",
    "\n",
    "> list1 = [12, 15, 32, 42, 55, 75, 122, 132, 150, 180, 200]\n",
    "\n",
    "Implementa un programa que los recorra e imprima por pantalla todos los divisibles por 5. Si nos encontramos con alguno que sea mayor que 150, detener el bucle."
   ]
  },
  {
   "cell_type": "code",
   "execution_count": 5,
   "metadata": {},
   "outputs": [
    {
     "name": "stdout",
     "output_type": "stream",
     "text": [
      "divisible\n",
      "15\n",
      "divisible\n",
      "55\n",
      "divisible\n",
      "75\n",
      "divisible\n",
      "150\n",
      "divisible\n",
      "180\n"
     ]
    }
   ],
   "source": [
    "list1 = [12, 15, 32, 42, 55, 75, 122, 132, 150, 180, 200]\n",
    "for numero in list1:\n",
    "    if numero % 5 ==0: \n",
    "        print(\"divisible\")\n",
    "        print(numero)\n",
    "    if numero > 150:\n",
    "        break    "
   ]
  },
  {
   "cell_type": "code",
   "execution_count": 35,
   "metadata": {},
   "outputs": [
    {
     "name": "stdout",
     "output_type": "stream",
     "text": [
      "15\n",
      "55\n",
      "75\n",
      "150\n",
      "60\n"
     ]
    }
   ],
   "source": []
  },
  {
   "cell_type": "markdown",
   "metadata": {},
   "source": [
    "## Ejercicio 7\n",
    "Escribe un programa en Python que imprima por pantalla todos los números divisibles por 5 y divisibles por 7, dentro del rango de valores (150, 350)"
   ]
  },
  {
   "cell_type": "code",
   "execution_count": 6,
   "metadata": {},
   "outputs": [
    {
     "name": "stdout",
     "output_type": "stream",
     "text": [
      "175\n",
      "210\n",
      "245\n",
      "280\n",
      "315\n"
     ]
    }
   ],
   "source": [
    "for numero in range(151, 350):\n",
    "    if numero % 5 == 0 and numero % 7 == 0:\n",
    "        print(numero)"
   ]
  },
  {
   "cell_type": "code",
   "execution_count": 1,
   "metadata": {},
   "outputs": [
    {
     "data": {
      "text/plain": [
       "'HOLA'"
      ]
     },
     "execution_count": 1,
     "metadata": {},
     "output_type": "execute_result"
    }
   ],
   "source": [
    "#hola\n",
    "\"HOLA\""
   ]
  },
  {
   "cell_type": "markdown",
   "metadata": {},
   "source": [
    "## Ejercicio 8\n",
    "Implementa un programa que imprima por pantalla el siguiente patrón\n",
    "\n",
    "\n",
    "5 4 3 2 1 \n",
    "\n",
    "4 3 2 1 \n",
    "\n",
    "3 2 1 \n",
    "\n",
    "2 1 \n",
    "\n",
    "1\n",
    "\n",
    "NOTA: NO hay lineas en blanco entre una línea y otra."
   ]
  },
  {
   "cell_type": "code",
   "execution_count": 8,
   "metadata": {},
   "outputs": [
    {
     "name": "stdout",
     "output_type": "stream",
     "text": [
      "5 4 3 2 1 \n",
      "4 3 2 1 \n",
      "3 2 1 \n",
      "2 1 \n",
      "1 \n"
     ]
    }
   ],
   "source": [
    "for i in range (5, 0, -1): #empezar desde el 5 hasta el 1 decreciendo, el 0 significa q va de uno en uno\n",
    "    for j in range( i, 0, -1):\n",
    "        print(j, end= ' ') #Imprime cada número en la misma línea, separado por un espacio.\n",
    "\n",
    "    print()    #cambiar la linea despues de cada serie\n",
    "\n"
   ]
  },
  {
   "cell_type": "code",
   "execution_count": 60,
   "metadata": {},
   "outputs": [
    {
     "name": "stdout",
     "output_type": "stream",
     "text": [
      "0\n",
      "[5, 4, 3, 2, 1]\n",
      "1\n",
      "[4, 3, 2, 1]\n",
      "2\n",
      "[3, 2, 1]\n",
      "3\n",
      "[2, 1]\n",
      "4\n",
      "[1]\n"
     ]
    }
   ],
   "source": []
  },
  {
   "cell_type": "code",
   "execution_count": 59,
   "metadata": {},
   "outputs": [
    {
     "data": {
      "text/plain": [
       "[3, 2, 1]"
      ]
     },
     "execution_count": 59,
     "metadata": {},
     "output_type": "execute_result"
    }
   ],
   "source": []
  },
  {
   "cell_type": "code",
   "execution_count": 65,
   "metadata": {},
   "outputs": [
    {
     "name": "stdout",
     "output_type": "stream",
     "text": [
      "5 4 3 2 1 \n",
      "4 3 2 1 \n",
      "3 2 1 \n",
      "2 1 \n",
      "1 \n"
     ]
    }
   ],
   "source": []
  },
  {
   "cell_type": "markdown",
   "metadata": {},
   "source": [
    "## Ejercicio 9\n",
    "\n",
    "En este ejercicio vamos a crear un pequeño juego. Se trata de intentar adivinar un numero del 1 al 5. Tenemos dos intentos para acertar. Pasos a seguir:\n",
    "\n",
    "1. Ya viene implementado cómo obtener un número aleatorio del 1 al 5\n",
    "2. Tendrás que declarar en una variable el numero de vidas, y mediante un bucle while, comprobar que todavia quedan vidas.\n",
    "3. Dentro del bucle, obtener el valor del usuario y comprobar si es ese el numero a adivinar. Si no, actualizar las vidas.\n",
    "4. Si acertamos, salimos del bucle e imprimimos por pantalla \"You win\". Y si perdemos también salimos del bucle, pero en este caso imprimimos por pantalla \"You lose\".\n",
    "\n",
    "TIP: te puede resultar útil usar la sentencia `else` cuando acabe el bucle `while`. Lo que haya dentro de ese `else` se ejecutará una vez acabe la ejecución del `while`. Lo podrás usar para cuando pierdas."
   ]
  },
  {
   "cell_type": "code",
   "execution_count": 3,
   "metadata": {},
   "outputs": [
    {
     "name": "stdout",
     "output_type": "stream",
     "text": [
      "3\n"
     ]
    },
    {
     "ename": "ValueError",
     "evalue": "invalid literal for int() with base 10: ''",
     "output_type": "error",
     "traceback": [
      "\u001b[1;31m---------------------------------------------------------------------------\u001b[0m",
      "\u001b[1;31mValueError\u001b[0m                                Traceback (most recent call last)",
      "Cell \u001b[1;32mIn[3], line 8\u001b[0m\n\u001b[0;32m      4\u001b[0m vida\u001b[38;5;241m=\u001b[39m\u001b[38;5;241m2\u001b[39m\n\u001b[0;32m      7\u001b[0m \u001b[38;5;28;01mwhile\u001b[39;00m \u001b[38;5;28;01mTrue\u001b[39;00m:\n\u001b[1;32m----> 8\u001b[0m     guess \u001b[38;5;241m=\u001b[39m \u001b[38;5;28;43mint\u001b[39;49m\u001b[43m(\u001b[49m\u001b[38;5;28;43minput\u001b[39;49m\u001b[43m(\u001b[49m\u001b[43m)\u001b[49m\u001b[43m)\u001b[49m\n\u001b[0;32m      9\u001b[0m     \u001b[38;5;28;01mif\u001b[39;00m guess \u001b[38;5;241m==\u001b[39m rand:\n\u001b[0;32m     10\u001b[0m         \u001b[38;5;28mprint\u001b[39m(\u001b[38;5;124m\"\u001b[39m\u001b[38;5;124mwin\u001b[39m\u001b[38;5;124m\"\u001b[39m)\n",
      "\u001b[1;31mValueError\u001b[0m: invalid literal for int() with base 10: ''"
     ]
    }
   ],
   "source": [
    "import random \n",
    "rand = random.randint(1,5)\n",
    "print(rand)\n",
    "vida=2\n",
    "\n",
    "\n",
    "while True:\n",
    "    guess = int(input())\n",
    "    if guess == rand:\n",
    "        print(\"win\")\n",
    "        break \n",
    "    else: \n",
    "        if vida == 0:\n",
    "             print(\"loser\")\n",
    "             break \n",
    "        else:\n",
    "            vidas = vidas -1 \n",
    "print(rand)           \n",
    "\n",
    "\n",
    "\n",
    "\n",
    "            \n",
    "            "
   ]
  },
  {
   "cell_type": "code",
   "execution_count": null,
   "metadata": {},
   "outputs": [],
   "source": []
  }
 ],
 "metadata": {
  "kernelspec": {
   "display_name": "Python 3",
   "language": "python",
   "name": "python3"
  },
  "language_info": {
   "codemirror_mode": {
    "name": "ipython",
    "version": 3
   },
   "file_extension": ".py",
   "mimetype": "text/x-python",
   "name": "python",
   "nbconvert_exporter": "python",
   "pygments_lexer": "ipython3",
   "version": "3.11.9"
  }
 },
 "nbformat": 4,
 "nbformat_minor": 4
}
