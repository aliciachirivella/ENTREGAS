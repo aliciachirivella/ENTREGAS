{
 "cells": [
  {
   "cell_type": "markdown",
   "metadata": {},
   "source": [
    "![imagen](./img/ejercicios.png)"
   ]
  },
  {
   "cell_type": "markdown",
   "metadata": {},
   "source": [
    "## Ejercicio 1\n",
    "Dada la siguiente lista:\n",
    "> ```ejer_1 = [1,2,3,4,5]```\n",
    "\n",
    "Inviértela para que quede de la siguiente manera\n",
    "> ```ejer_1 = [5,4,3,2,1]```"
   ]
  },
  {
   "cell_type": "code",
   "execution_count": 40,
   "metadata": {},
   "outputs": [
    {
     "name": "stdout",
     "output_type": "stream",
     "text": [
      "[5, 4, 3, 2, 1]\n"
     ]
    }
   ],
   "source": [
    "ejer_1 = [1,2,3,4,5]\n",
    "ejer_1.reverse()\n",
    "print(ejer_1)"
   ]
  },
  {
   "cell_type": "markdown",
   "metadata": {},
   "source": [
    "## Ejercicio 2\n",
    "Eleva todos los elementos de la lista al cuadrado\n",
    "> ```ejer_2 = [1,2,3,4,5]```"
   ]
  },
  {
   "cell_type": "code",
   "execution_count": 14,
   "metadata": {},
   "outputs": [
    {
     "name": "stdout",
     "output_type": "stream",
     "text": [
      "1\n",
      "4\n",
      "9\n",
      "16\n",
      "25\n"
     ]
    }
   ],
   "source": [
    "ejer_2 = [1,2,3,4,5]\n",
    "\n",
    "\n",
    "for num in ejer_2:\n",
    "    print(num **2)"
   ]
  },
  {
   "cell_type": "markdown",
   "metadata": {},
   "source": [
    "## Ejercicio 3\n",
    "Crea una lista nueva con todas las combinaciones de las siguientes dos listas:\n",
    "> ```ejer_3_1 = [\"Hola\", \"amigo\"]```\n",
    ">\n",
    "> ```ejer_3_2 = [\"Que\", \"tal\"]```\n",
    "\n",
    "Obten el siguiente output:\n",
    "\n",
    "```['Hola Que', 'Hola tal', 'amigo Que', 'amigo tal']```"
   ]
  },
  {
   "cell_type": "code",
   "execution_count": 57,
   "metadata": {},
   "outputs": [
    {
     "name": "stdout",
     "output_type": "stream",
     "text": [
      "['Hola Que', 'Hola tal', 'amigo Que', 'amigo tal']\n",
      "['Hola', 'amigo', 'carlos']\n"
     ]
    }
   ],
   "source": [
    "ejer_3_1 = [\"Hola\", \"amigo\"]\n",
    "ejer_3_2 = [\"Que\", \"tal\"]\n",
    "new_3 = []\n",
    "\n",
    "ejer_3_1 = [\"Hola\", \"amigo\"]\n",
    "ejer_3_2 = [\"Que\", \"tal\"]\n",
    "nueva_lista= []\n",
    "\n",
    "for elemento1 in ejer_3_1:\n",
    "    for elemento2 in ejer_3_2:\n",
    "        nueva_lista.append(elemento1 + \" \" + elemento2)\n",
    "        \n",
    "print(nueva_lista)      \n",
    "\n",
    "ejer_3_1.append(\"carlos\")\n",
    "print(ejer_3_1)"
   ]
  },
  {
   "attachments": {},
   "cell_type": "markdown",
   "metadata": {},
   "source": [
    "## Ejercicio 4\n",
    "Dada la siguiente lista, encuentra por el índice el valor 45 y sustitúyelo por el 0\n",
    "> ```ejer_4 = [20, 47, 19, 29, 45, 67, 78, 90]```"
   ]
  },
  {
   "cell_type": "code",
   "execution_count": 44,
   "metadata": {},
   "outputs": [
    {
     "name": "stdout",
     "output_type": "stream",
     "text": [
      "[20, 47, 19, 29, 0, 67, 78, 90]\n"
     ]
    }
   ],
   "source": [
    "ejer_4 = [20, 47, 19, 29, 45, 67, 78, 90]\n",
    "\n",
    "\n",
    "indice = ejer_4.index(45)\n",
    "ejer_4[indice]= 0\n",
    "print(ejer_4)\n"
   ]
  },
  {
   "cell_type": "markdown",
   "metadata": {},
   "source": [
    "## Ejercicio 5\n",
    "Dada la siguiente lista, elimina todos los valores iguales a 3\n",
    "> ```ejer_5 = [3, 20, 3, 47, 19, 3, 29, 45, 67, 78, 90, 3, 3]```\n",
    "\n",
    "TIP: No intentes eliminar elementos sobre la lista que estás iterando. Haz una copia con `ejer_5.copy()`."
   ]
  },
  {
   "cell_type": "code",
   "execution_count": 45,
   "metadata": {},
   "outputs": [
    {
     "name": "stdout",
     "output_type": "stream",
     "text": [
      "[20, 47, 19, 29, 45, 67, 78, 90]\n"
     ]
    }
   ],
   "source": [
    "ejer_5 = [3, 20, 3, 47, 19, 3, 29, 45, 67, 78, 90, 3, 3]\n",
    "\n",
    "nuevo_ejer= []\n",
    "\n",
    "for num in ejer_5:\n",
    "    if num !=3:\n",
    "        nuevo_ejer.append(num)\n",
    "print(nuevo_ejer)        "
   ]
  },
  {
   "cell_type": "code",
   "execution_count": 53,
   "metadata": {},
   "outputs": [],
   "source": [
    "ejer_5 = [3, 20, 3, 47, 19, 3, 29, 45, 67, 78, 90, 3, 3]\n",
    "\n",
    "while True:\n",
    "    if 3 in ejer_5:\n",
    "        ejer_5.remove(3)\n",
    "    else:\n",
    "        break     "
   ]
  },
  {
   "cell_type": "code",
   "execution_count": 61,
   "metadata": {},
   "outputs": [
    {
     "name": "stdout",
     "output_type": "stream",
     "text": [
      "[20, 3, 47, 19, 3, 29, 45, 67, 78, 90, 3, 3]\n"
     ]
    }
   ],
   "source": [
    "ejer_5 = [3, 20, 3, 47, 19, 3, 29, 45, 67, 78, 90, 3, 3]\n",
    "\n",
    "ejer_5.remove(3)\n",
    "print(ejer_5)\n",
    "\n",
    "#aqui solo estamos eliminando el primer 3 de la lista porq no hemos hecho un bucle "
   ]
  },
  {
   "cell_type": "code",
   "execution_count": 26,
   "metadata": {},
   "outputs": [
    {
     "name": "stdout",
     "output_type": "stream",
     "text": [
      "[20, 47, 19, 29, 45, 67, 78, 90]\n"
     ]
    }
   ],
   "source": [
    "ejer_5 = [3, 20, 3, 47, 19, 3, 29, 45, 67, 78, 90, 3, 3]\n",
    "\n",
    "while True:\n",
    "    if 3 in ejer_5:\n",
    "        ejer_5.remove(3)\n",
    "    else:\n",
    "        break \n",
    "\n",
    " \n",
    "print(ejer_5)   "
   ]
  },
  {
   "attachments": {},
   "cell_type": "markdown",
   "metadata": {},
   "source": [
    "## Ejercicio 6\n",
    "1. Crea una tupla con 3 elementos\n",
    "2. Crea otra tupla con un elemento y comprueba su tipo\n",
    "3. Crea una tupla con elementos de diferentes tipos\n",
    "4. Imprime por pantalla el primer y último elemento de la tupla del apartado 3. Usa `len` para el último\n",
    "5. Añade un elemento a la tupla del apartado 3.\n",
    "6. Eliminar un elemento de la tupla del apartado 5, que se encuentre más o menos en la mitad.\n",
    "7. Convierte la tupla del apartado 5 en una lista"
   ]
  },
  {
   "cell_type": "code",
   "execution_count": 93,
   "metadata": {},
   "outputs": [
    {
     "name": "stdout",
     "output_type": "stream",
     "text": [
      "ali\n",
      "True\n",
      "True\n",
      "22\n",
      "True\n",
      "True\n",
      "['ali', 22, 'juan', True, 'carlos']\n",
      "['ali', 'juan', True, 'carlos']\n",
      "['ali', True, 'carlos']\n",
      "('ali', True, 'carlos')\n"
     ]
    }
   ],
   "source": [
    "#añadir una tupla= suma y crea otra tupla\n",
    "tupla_1= (\"ali\", \"juan\", \"carlos\")\n",
    "tupla_2 = ( False)\n",
    "type(tupla_2)\n",
    "tupla_2= (\"ali\", 22, \"juan\", True )\n",
    "print(tupla_2[0]) #emepzando desde el princpio siempre se empieza desde 0 \n",
    "print(tupla_2[3]) \n",
    "print(tupla_2[-1]) #empezando desde el final siempre se empieza desde -1\n",
    "print(tupla_2[-3])\n",
    "print(tupla_2[len(tupla_2)-1]) #si quisieras buscar el ult termino usando len\n",
    "print(tupla_2[-1]) \n",
    "\n",
    "#para añadir un termino nuevo a la tupla primero has de pasarlo a lista porq son inmmutables \n",
    "lista_2= list(tupla_2)\n",
    "lista_2.append(\"carlos\")\n",
    "print(lista_2)\n",
    "\n",
    "#eliminar termino por su nombre \n",
    "lista_2.remove(22)\n",
    "print(lista_2)\n",
    "\n",
    "#eliminar termino por su posicion\n",
    "\n",
    "lista_2.pop(1)\n",
    "print(lista_2)\n",
    "\n",
    "#convierte la lista del apartado 5 en una tupla (he cambiado el enunciado)\n",
    "\n",
    "tupla_3= tuple(lista_2)\n",
    "print(tupla_3)\n",
    "\n",
    "\n",
    "#index \n",
    "\n",
    "months= [ \"enero\", \"febrero\", \"marzo\"]\n",
    "print(months[len(months)-1]) \n",
    "\n",
    "\n",
    "\n",
    "\n",
    "\n",
    "\n",
    "\n"
   ]
  },
  {
   "cell_type": "code",
   "execution_count": 6,
   "metadata": {},
   "outputs": [
    {
     "name": "stdout",
     "output_type": "stream",
     "text": [
      "Enero\n",
      "Marzo\n",
      "Marzo\n"
     ]
    },
    {
     "data": {
      "text/plain": [
       "0"
      ]
     },
     "execution_count": 6,
     "metadata": {},
     "output_type": "execute_result"
    }
   ],
   "source": [
    "months = [\"Enero\", \"Febrero\", \"Marzo\"]\n",
    "print(months[0])\n",
    "print(months[-1])\n",
    "print(months[len(months)-1]) \n",
    "months.index(\"Enero\")"
   ]
  },
  {
   "cell_type": "code",
   "execution_count": 12,
   "metadata": {},
   "outputs": [
    {
     "name": "stdout",
     "output_type": "stream",
     "text": [
      "1\n"
     ]
    },
    {
     "data": {
      "text/plain": [
       "2"
      ]
     },
     "execution_count": 12,
     "metadata": {},
     "output_type": "execute_result"
    }
   ],
   "source": [
    "#obtener el índice de esos valores dentro de la lista\n",
    "lista = [1,10,100, 100]\n",
    "print(lista.index(10))\n",
    "months.index(\"Marzo\")"
   ]
  },
  {
   "cell_type": "code",
   "execution_count": 13,
   "metadata": {},
   "outputs": [
    {
     "data": {
      "text/plain": [
       "[22, 34, 15, 26, 18]"
      ]
     },
     "execution_count": 13,
     "metadata": {},
     "output_type": "execute_result"
    }
   ],
   "source": [
    "degrees = [22, 34, 15, 26, 18, 25]\n",
    "degrees[0:-1]"
   ]
  },
  {
   "attachments": {},
   "cell_type": "markdown",
   "metadata": {},
   "source": [
    "## Ejercicio 7\n",
    "Concatena todos los elementos de la tupla en un único string. Para ello utiliza el metodo `.join()` de los Strings\n",
    "> ```ejer_7 = (\"cien\", \"cañones\", \"por\", \"banda\")```\n",
    "\n",
    "Resultado: `cien cañones por banda`"
   ]
  },
  {
   "cell_type": "code",
   "execution_count": 102,
   "metadata": {},
   "outputs": [
    {
     "name": "stdout",
     "output_type": "stream",
     "text": [
      "cien cañones por banda\n"
     ]
    }
   ],
   "source": [
    "ejer_7 = (\"cien\", \"cañones\", \"por\", \"banda\")\n",
    "\n",
    "nuevo_ejer= ' '.join(ejer_7)   #el espacio es para q haya separacion \n",
    "print(nuevo_ejer)"
   ]
  },
  {
   "cell_type": "markdown",
   "metadata": {},
   "source": [
    "## Ejercicio 8\n",
    "Obten el tercer elemento de la siguiente tupla, y el tercero empezando por la cola\n",
    "> ```ejer_8 = (3, 20, 3, 47, 19, 3, 29, 45, 67, 78, 90, 3, 3)```"
   ]
  },
  {
   "cell_type": "code",
   "execution_count": 99,
   "metadata": {},
   "outputs": [
    {
     "name": "stdout",
     "output_type": "stream",
     "text": [
      "3\n",
      "90\n"
     ]
    }
   ],
   "source": [
    "ejer_8 = (3, 20, 3, 47, 19, 3, 29, 45, 67, 78, 90, 3, 3)\n",
    "\n",
    "print(ejer_8[2])\n",
    "print(ejer_8[-3])\n"
   ]
  },
  {
   "attachments": {},
   "cell_type": "markdown",
   "metadata": {},
   "source": [
    "## Ejercicio 9\n",
    "1. ¿Cuántas veces se repite el 3 en la siguiente tupla?\n",
    "2. Crea una tupla nueva con los elementos desde la posición 5 a la 10.\n",
    "3. ¿Cuántos elementos tiene la tupla `ejer_9`?\n",
    "4. Comprueba si el numero 60 está en la tupla\n",
    "> ```ejer_9 = (3, 20, 3, 47, 19, 3, 29, 45, 67, 78, 90, 3, 3, 5, 2, 4, 7, 9, 4, 2, 4, 3, 3, 4, 6, 7)```"
   ]
  },
  {
   "cell_type": "code",
   "execution_count": 1,
   "metadata": {},
   "outputs": [
    {
     "name": "stdout",
     "output_type": "stream",
     "text": [
      "(3, 29, 45, 67, 78)\n",
      "26\n"
     ]
    },
    {
     "ename": "NameError",
     "evalue": "name 'elemento' is not defined",
     "output_type": "error",
     "traceback": [
      "\u001b[1;31m---------------------------------------------------------------------------\u001b[0m",
      "\u001b[1;31mNameError\u001b[0m                                 Traceback (most recent call last)",
      "Cell \u001b[1;32mIn[1], line 12\u001b[0m\n\u001b[0;32m      7\u001b[0m \u001b[38;5;28mprint\u001b[39m(\u001b[38;5;28mlen\u001b[39m(ejer_9))\n\u001b[0;32m     10\u001b[0m \u001b[38;5;66;03m#Comprueba si el numero 60 está en la tupla\u001b[39;00m\n\u001b[1;32m---> 12\u001b[0m \u001b[38;5;28;01mif\u001b[39;00m \u001b[43melemento\u001b[49m \u001b[38;5;129;01min\u001b[39;00m ejer_9\u001b[38;5;241m==\u001b[39m \u001b[38;5;241m60\u001b[39m:\n\u001b[0;32m     13\u001b[0m     \u001b[38;5;28mprint\u001b[39m(\u001b[38;5;124m\"\u001b[39m\u001b[38;5;124msi q esta\u001b[39m\u001b[38;5;124m\"\u001b[39m)\n\u001b[0;32m     14\u001b[0m \u001b[38;5;28;01melse\u001b[39;00m:\n",
      "\u001b[1;31mNameError\u001b[0m: name 'elemento' is not defined"
     ]
    }
   ],
   "source": [
    "ejer_9 = (3, 20, 3, 47, 19, 3, 29, 45, 67, 78, 90, 3, 3, 5, 2, 4, 7, 9, 4, 2, 4, 3, 3, 4, 6, 7)\n",
    "ejer_9.count(3) \n",
    "\n",
    "ejer_9_nueva= ejer_9[5:10]  #desde la posicion 5 a la 9 se usa : \n",
    "print(ejer_9_nueva) \n",
    "\n",
    "print(len(ejer_9))\n",
    "\n",
    "\n",
    "#Comprueba si el numero 60 está en la tupla\n",
    "\n",
    "if elemento in ejer_9== 60:\n",
    "    print(\"si q esta\")\n",
    "else:\n",
    "    print(\"no esta\")    \n",
    "\n",
    "\n",
    "60 in ejer_9    \n",
    "\n",
    "    \n"
   ]
  },
  {
   "cell_type": "code",
   "execution_count": 4,
   "metadata": {},
   "outputs": [
    {
     "name": "stdout",
     "output_type": "stream",
     "text": [
      "marzo\n"
     ]
    }
   ],
   "source": [
    "\n",
    "\n",
    "\n"
   ]
  },
  {
   "attachments": {},
   "cell_type": "markdown",
   "metadata": {},
   "source": [
    "## Ejercicio 10\n",
    "1. Convierte la tupla del ejercicio 9 en una lista\n",
    "2. Convierte la tupla del ejercicio 9 en un set\n",
    "3. Convierte la tupla del ejercicio 9 en un diccionario. Usa también los índices"
   ]
  },
  {
   "cell_type": "code",
   "execution_count": 23,
   "metadata": {},
   "outputs": [
    {
     "name": "stdout",
     "output_type": "stream",
     "text": [
      "[3, 20, 3, 47, 19, 3, 29, 45, 67, 78, 90, 3, 3, 5, 2, 4, 7, 9, 4, 2, 4, 3, 3, 4, 6, 7]\n",
      "{2, 3, 67, 5, 4, 7, 6, 9, 45, 78, 47, 19, 20, 90, 29}\n",
      "{0: 3, 1: 20, 2: 3, 3: 47, 4: 19, 5: 3, 6: 29, 7: 45, 8: 67, 9: 78, 10: 90, 11: 3, 12: 3, 13: 5, 14: 2, 15: 4, 16: 7, 17: 9, 18: 4, 19: 2, 20: 4, 21: 3, 22: 3, 23: 4, 24: 6, 25: 7}\n"
     ]
    }
   ],
   "source": [
    "ejer_9 = (3, 20, 3, 47, 19, 3, 29, 45, 67, 78, 90, 3, 3, 5, 2, 4, 7, 9, 4, 2, 4, 3, 3, 4, 6, 7)\n",
    "\n",
    "#lista\n",
    "print(list(ejer_9))\n",
    "\n",
    "#set\n",
    "print(set(ejer_9))\n",
    "\n",
    "#diccio\n",
    "\n",
    "my_dict = {}\n",
    "\n",
    "for clave, valor in enumerate(ejer_9):\n",
    "    my_dict[clave]= valor \n",
    "\n",
    "print(my_dict)\n",
    "\n",
    "\n",
    "\n",
    "\n",
    "\n",
    "\n"
   ]
  },
  {
   "cell_type": "code",
   "execution_count": 16,
   "metadata": {},
   "outputs": [
    {
     "name": "stdout",
     "output_type": "stream",
     "text": [
      "4\n"
     ]
    }
   ],
   "source": [
    "comida = [\"manzana\", \"pan\", \"queso\", \"uvas\"]\n",
    "intestino = []\n",
    "comida= len(comida)\n",
    "print(comida)  #aqui ya tenemos una lista \n",
    "for i in range(len(comida)):\n",
    "    intestino.append(comida.pop(-1))\n"
   ]
  },
  {
   "cell_type": "code",
   "execution_count": 134,
   "metadata": {},
   "outputs": [
    {
     "name": "stdout",
     "output_type": "stream",
     "text": [
      "{2, 3, 67, 5, 4, 7, 6, 9, 45, 78, 47, 19, 20, 90, 29}\n"
     ]
    }
   ],
   "source": [
    "ejer_9_set = set(ejer_9)\n",
    "print(ejer_9_set)"
   ]
  },
  {
   "cell_type": "markdown",
   "metadata": {},
   "source": [
    "## Ejercicio 11\n",
    "Convierte la siguiente lista en un diccionario\n",
    "> ```ejer_11 = [(\"x\", 1), (\"x\", 2), (\"x\", 3), (\"y\", 1), (\"y\", 2), (\"z\", 1)]```\n",
    "\n",
    "TIP: Puedes usar dos variables de control en un bucle `for`. Una por cada valor de las tuplas."
   ]
  },
  {
   "cell_type": "code",
   "execution_count": 17,
   "metadata": {},
   "outputs": [
    {
     "name": "stdout",
     "output_type": "stream",
     "text": [
      "{'x': 3, 'y': 2, 'z': 1}\n",
      "{'x': 3, 'y': 2, 'z': 1}\n"
     ]
    }
   ],
   "source": [
    "ejer_11 = [(\"x\", 1), (\"x\", 2), (\"x\", 3), (\"y\", 1), (\"y\", 2), (\"z\", 1)]\n",
    "diccionario_11 = {}\n",
    "\n",
    "for clave, valor in (ejer_11):\n",
    "    diccionario_11[clave]= valor\n",
    "\n",
    "print(diccionario_11)    \n",
    "\n",
    "#forma mas sencilla \n",
    "\n",
    "diccio1 = dict(ejer_11)\n",
    "print(diccio1)"
   ]
  },
  {
   "cell_type": "code",
   "execution_count": null,
   "metadata": {},
   "outputs": [],
   "source": []
  },
  {
   "cell_type": "code",
   "execution_count": 34,
   "metadata": {},
   "outputs": [
    {
     "name": "stdout",
     "output_type": "stream",
     "text": [
      "{'Direccion': ['Avenida 1', 'Avenida 2'], 'Tamaño': [110, 90]}\n"
     ]
    }
   ],
   "source": [
    "# en este caso no tienes q hacer lo del for porq ya estan creadas las clave-valor \n",
    "tienda = {}\n",
    "tienda['Direccion'] = [\"Avenida 1\", \"Avenida 2\"]\n",
    "tienda['Tamaño'] = [110, 90]\n",
    "print(tienda)\n",
    "\n",
    "\n"
   ]
  },
  {
   "cell_type": "code",
   "execution_count": 3,
   "metadata": {},
   "outputs": [
    {
     "name": "stdout",
     "output_type": "stream",
     "text": [
      "{'x': 3, 'y': 2, 'z': 1}\n"
     ]
    }
   ],
   "source": [
    "ejer_11 = [(\"x\", 1), (\"x\", 2), (\"x\", 3), (\"y\", 1), (\"y\", 2), (\"z\", 1)]\n",
    "diccio= {}\n",
    "for key, value in (ejer_11):\n",
    "    diccio[key] = value \n",
    "\n",
    "print(diccio)    "
   ]
  },
  {
   "attachments": {},
   "cell_type": "markdown",
   "metadata": {},
   "source": [
    "## Ejercicio 12\n",
    "1. Crea una lista ordenada ascendente con las claves del diccionario\n",
    "2. Crea otra lista ordenada descendente con los valores\n",
    "3. Añade una nueva clave/valor\n",
    "4. Busca la clave igual 2 dentro del diccionario\n",
    "5. Itera la clave y el valor del diccionario con un único for\n",
    "> ```ejer_12 = {4:78, 2:98, 8:234, 5:29}```"
   ]
  },
  {
   "cell_type": "code",
   "execution_count": 30,
   "metadata": {},
   "outputs": [
    {
     "name": "stdout",
     "output_type": "stream",
     "text": [
      "{'x': 3, 'y': 2, 'z': 1, 0: 4, 1: 2, 2: 8, 3: 5}\n",
      "[2, 4, 5, 8]\n",
      "[8, 5, 4, 2]\n",
      "{4: 78, 2: 98, 8: 234, 5: 29, 6: 33}\n",
      "existe\n",
      "Clave: 4, Valor: 78\n",
      "Clave: 2, Valor: 98\n",
      "Clave: 8, Valor: 234\n",
      "Clave: 5, Valor: 29\n",
      "Clave: 6, Valor: 33\n",
      "clave: 4\n",
      "clave: 2\n",
      "clave: 8\n",
      "clave: 5\n",
      "clave: 6\n",
      "valor= 78\n",
      "valor= 98\n",
      "valor= 234\n",
      "valor= 29\n",
      "valor= 33\n"
     ]
    }
   ],
   "source": [
    "ejer_12 = {4:78, 2:98, 8:234, 5:29}\n",
    "\n",
    "\n",
    "\n",
    "for clave, valor in enumerate(ejer_12):\n",
    "    diccio[clave]= valor\n",
    "\n",
    "print(diccio)    \n",
    "\n",
    "#lista ascendente \n",
    "\n",
    "print(sorted(ejer_12.keys()))  #no cambia la lista original\n",
    "\n",
    "print(sorted(ejer_12.keys(), reverse= True))\n",
    "\n",
    "#nueva clave valor\n",
    "\n",
    "ejer_12[6]= 33\n",
    "print(ejer_12)\n",
    "\n",
    "#buscar clave \n",
    "\n",
    "if 2 in ejer_12:  #solo verifica las claves, no los valores con el if , si quisieras buscar el valor pondrias if 98 in ejer_12.values():\n",
    "    print (\"existe\")\n",
    "\n",
    "#Itera la clave y el valor del diccionario con un único for --> se usa siempre la funcion items \n",
    "\n",
    "for clave, valor in ejer_12.items():\n",
    "    print(f\"Clave: {clave}, Valor: {valor}\")\n",
    "\n",
    "#iterar\n",
    "#sobre valores --> .values()\n",
    "#sobre clave --> .keys() / nada directamente \n",
    "#ambos --> .items ()\n",
    "\n",
    "for clave in ejer_12:\n",
    "    print(f\"clave: {clave}\")\n",
    "\n",
    "for valor in ejer_12.values():\n",
    "    print(f\"valor= {valor}\")    \n",
    "\n",
    "    "
   ]
  },
  {
   "cell_type": "markdown",
   "metadata": {},
   "source": [
    "## Ejercicio 13\n",
    "Junta ambos diccionarios. Para ello, utiliza `update`\n",
    "> ```ejer_13_1 = {1: 11, 2: 22}```\n",
    ">\n",
    "> ```ejer_13_2 = {3: 33, 4: 44}```"
   ]
  },
  {
   "cell_type": "code",
   "execution_count": 9,
   "metadata": {},
   "outputs": [
    {
     "name": "stdout",
     "output_type": "stream",
     "text": [
      "{1: 11, 2: 22, 3: 33, 4: 44}\n"
     ]
    }
   ],
   "source": [
    "ejer_13_1 = {1: 11, 2: 22}\n",
    "ejer_13_2 = {3: 33, 4: 44}\n",
    "\n",
    "ejer_13_1.update(ejer_13_2)\n",
    "print(ejer_13_1)"
   ]
  },
  {
   "cell_type": "markdown",
   "metadata": {},
   "source": [
    "## Ejercicio 14\n",
    "Suma todos los valores del dicionario\n",
    "> ```ejer_14 = {1: 11, 2: 22, 3: 33, 4: 44, 5: 55}```"
   ]
  },
  {
   "cell_type": "code",
   "execution_count": 48,
   "metadata": {},
   "outputs": [
    {
     "name": "stdout",
     "output_type": "stream",
     "text": [
      "165\n"
     ]
    }
   ],
   "source": [
    "ejer_14 = {1: 11, 2: 22, 3: 33, 4: 44, 5: 55}\n",
    "suma= 0 \n",
    "\n",
    "for valor in ejer_14.values():\n",
    "    suma = suma + valor\n",
    "\n",
    "print(suma)    "
   ]
  },
  {
   "cell_type": "markdown",
   "metadata": {},
   "source": [
    "## Ejercicio 15\n",
    "Multiplica todos los valores del diccionario\n",
    "> ```ejer_15 = {1: 11, 2: 22, 3: 33, 4: 44, 5: 55}```"
   ]
  },
  {
   "cell_type": "code",
   "execution_count": 47,
   "metadata": {},
   "outputs": [
    {
     "name": "stdout",
     "output_type": "stream",
     "text": [
      "19326120\n"
     ]
    }
   ],
   "source": [
    "ejer_15 = {1: 11, 2: 22, 3: 33, 4: 44, 5: 55}\n",
    "mult= 1\n",
    "for valor in ejer_15.values():\n",
    "    mult = mult * valor \n",
    "    \n",
    "print(mult)    "
   ]
  },
  {
   "cell_type": "markdown",
   "metadata": {},
   "source": [
    "## Ejercicio 16\n",
    "1. Crea un set de tres elementos\n",
    "2. Añade un cuarto\n",
    "3. Elimina el último elemento añadido\n",
    "4. Elimina el elemento 10, si está presente. Usa `discard()`"
   ]
  },
  {
   "cell_type": "code",
   "execution_count": 61,
   "metadata": {},
   "outputs": [
    {
     "name": "stdout",
     "output_type": "stream",
     "text": [
      "{1, 2, 3, 4, 7}\n",
      "{1, 2, 3, 4}\n"
     ]
    }
   ],
   "source": [
    "set = {1,2,3,4}\n",
    "\n",
    "\n",
    "set.add(7)\n",
    "print(set)\n",
    "\n",
    "set.remove(7)\n",
    "print(set)\n",
    "\n"
   ]
  },
  {
   "cell_type": "markdown",
   "metadata": {},
   "source": [
    "SLICING \n",
    "[start,stop,step]\n",
    "El stop es exclusivo es decir no coge el ultimo numero )"
   ]
  },
  {
   "cell_type": "code",
   "execution_count": 14,
   "metadata": {},
   "outputs": [
    {
     "name": "stdout",
     "output_type": "stream",
     "text": [
      "[22, 34, 15, 26, 18, 20]\n"
     ]
    },
    {
     "data": {
      "text/plain": [
       "[20, 15]"
      ]
     },
     "execution_count": 14,
     "metadata": {},
     "output_type": "execute_result"
    }
   ],
   "source": [
    "degrees = [22, 34, 15, 26, 18, 20]\n",
    "print(degrees)\n",
    "degrees[::-3]\n",
    "[20, 15] \n",
    "print(degrees[-2:]) #Seria desde el 18 hasta el 20 \n",
    "\n",
    "# todos los n desde el principio al final\n",
    "#el range te esta indicando q empiezes desde el final y cada 3 "
   ]
  }
 ],
 "metadata": {
  "kernelspec": {
   "display_name": "fundamentals_env",
   "language": "python",
   "name": "python3"
  },
  "language_info": {
   "codemirror_mode": {
    "name": "ipython",
    "version": 3
   },
   "file_extension": ".py",
   "mimetype": "text/x-python",
   "name": "python",
   "nbconvert_exporter": "python",
   "pygments_lexer": "ipython3",
   "version": "3.11.9"
  }
 },
 "nbformat": 4,
 "nbformat_minor": 4
}
